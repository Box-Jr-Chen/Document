{
 "cells": [
  {
   "cell_type": "code",
   "execution_count": 1,
   "metadata": {},
   "outputs": [],
   "source": [
    "import numpy as np\n",
    "\n",
    "import matplotlib.pyplot as plt\n",
    "%matplotlib inline\n",
    "\n",
    "from sklearn.linear_model import LogisticRegression\n",
    "\n",
    "from sklearn.svm import SVC"
   ]
  },
  {
   "cell_type": "code",
   "execution_count": 2,
   "metadata": {},
   "outputs": [],
   "source": [
    "import sklearn.datasets as datasets"
   ]
  },
  {
   "cell_type": "code",
   "execution_count": 3,
   "metadata": {},
   "outputs": [],
   "source": [
    "from sklearn.metrics import roc_curve,auc"
   ]
  },
  {
   "cell_type": "code",
   "execution_count": 4,
   "metadata": {},
   "outputs": [],
   "source": [
    "from sklearn.model_selection import KFold,StratifiedKFold"
   ]
  },
  {
   "cell_type": "code",
   "execution_count": 5,
   "metadata": {},
   "outputs": [],
   "source": [
    "from sklearn.model_selection import train_test_split"
   ]
  },
  {
   "cell_type": "code",
   "execution_count": 6,
   "metadata": {},
   "outputs": [],
   "source": [
    "iris = datasets.load_iris()\n",
    "\n",
    "X = iris['data']\n",
    "\n",
    "y = iris['target']"
   ]
  },
  {
   "cell_type": "code",
   "execution_count": 8,
   "metadata": {},
   "outputs": [
    {
     "data": {
      "text/plain": [
       "array([ True,  True,  True,  True,  True,  True,  True,  True,  True,\n",
       "        True,  True,  True,  True,  True,  True,  True,  True,  True,\n",
       "        True,  True,  True,  True,  True,  True,  True,  True,  True,\n",
       "        True,  True,  True,  True,  True,  True,  True,  True,  True,\n",
       "        True,  True,  True,  True,  True,  True,  True,  True,  True,\n",
       "        True,  True,  True,  True,  True,  True,  True,  True,  True,\n",
       "        True,  True,  True,  True,  True,  True,  True,  True,  True,\n",
       "        True,  True,  True,  True,  True,  True,  True,  True,  True,\n",
       "        True,  True,  True,  True,  True,  True,  True,  True,  True,\n",
       "        True,  True,  True,  True,  True,  True,  True,  True,  True,\n",
       "        True,  True,  True,  True,  True,  True,  True,  True,  True,\n",
       "        True, False, False, False, False, False, False, False, False,\n",
       "       False, False, False, False, False, False, False, False, False,\n",
       "       False, False, False, False, False, False, False, False, False,\n",
       "       False, False, False, False, False, False, False, False, False,\n",
       "       False, False, False, False, False, False, False, False, False,\n",
       "       False, False, False, False, False, False])"
      ]
     },
     "execution_count": 8,
     "metadata": {},
     "output_type": "execute_result"
    }
   ],
   "source": [
    "y!=2"
   ]
  },
  {
   "cell_type": "code",
   "execution_count": 9,
   "metadata": {},
   "outputs": [],
   "source": [
    "cond = y!=2\n",
    "\n",
    "X = X[cond]\n",
    "\n",
    "y = y[cond]"
   ]
  },
  {
   "cell_type": "code",
   "execution_count": 10,
   "metadata": {},
   "outputs": [
    {
     "data": {
      "text/plain": [
       "array([0, 0, 0, 0, 0, 0, 0, 0, 0, 0, 0, 0, 0, 0, 0, 0, 0, 0, 0, 0, 0, 0,\n",
       "       0, 0, 0, 0, 0, 0, 0, 0, 0, 0, 0, 0, 0, 0, 0, 0, 0, 0, 0, 0, 0, 0,\n",
       "       0, 0, 0, 0, 0, 0, 1, 1, 1, 1, 1, 1, 1, 1, 1, 1, 1, 1, 1, 1, 1, 1,\n",
       "       1, 1, 1, 1, 1, 1, 1, 1, 1, 1, 1, 1, 1, 1, 1, 1, 1, 1, 1, 1, 1, 1,\n",
       "       1, 1, 1, 1, 1, 1, 1, 1, 1, 1, 1, 1])"
      ]
     },
     "execution_count": 10,
     "metadata": {},
     "output_type": "execute_result"
    }
   ],
   "source": [
    "y"
   ]
  },
  {
   "cell_type": "code",
   "execution_count": null,
   "metadata": {},
   "outputs": [],
   "source": []
  },
  {
   "cell_type": "code",
   "execution_count": 11,
   "metadata": {},
   "outputs": [
    {
     "data": {
      "text/plain": [
       "array([[ 8,  6],\n",
       "       [41, 48],\n",
       "       [48, 43],\n",
       "       [25,  6],\n",
       "       [ 3, 49],\n",
       "       [33, 14],\n",
       "       [42, 10],\n",
       "       [43,  7]])"
      ]
     },
     "metadata": {},
     "output_type": "display_data"
    },
    {
     "data": {
      "text/plain": [
       "array([0, 0, 1, 0, 1, 1, 1, 0])"
      ]
     },
     "metadata": {},
     "output_type": "display_data"
    }
   ],
   "source": [
    "# a是数据\n",
    "a = np.random.randint(50,size = (8,2))\n",
    "# b是目标值\n",
    "b = np.array([0,0,1,0,1,1,1,0])\n",
    "display(a,b)"
   ]
  },
  {
   "cell_type": "code",
   "execution_count": null,
   "metadata": {},
   "outputs": [],
   "source": []
  },
  {
   "cell_type": "code",
   "execution_count": 12,
   "metadata": {},
   "outputs": [
    {
     "data": {
      "text/plain": [
       "KFold(n_splits=4, random_state=None, shuffle=False)"
      ]
     },
     "execution_count": 12,
     "metadata": {},
     "output_type": "execute_result"
    }
   ],
   "source": [
    "kFold = KFold(n_splits=4)\n",
    "kFold"
   ]
  },
  {
   "cell_type": "code",
   "execution_count": 13,
   "metadata": {},
   "outputs": [
    {
     "name": "stdout",
     "output_type": "stream",
     "text": [
      "[2 3 4 5 6 7] [0 1]\n",
      "[0 1 4 5 6 7] [2 3]\n",
      "[0 1 2 3 6 7] [4 5]\n",
      "[0 1 2 3 4 5] [6 7]\n"
     ]
    }
   ],
   "source": [
    "for train,test in kFold.split(a,b):\n",
    "    print(train,test)"
   ]
  },
  {
   "cell_type": "code",
   "execution_count": null,
   "metadata": {},
   "outputs": [],
   "source": []
  },
  {
   "cell_type": "code",
   "execution_count": 15,
   "metadata": {},
   "outputs": [
    {
     "name": "stdout",
     "output_type": "stream",
     "text": [
      "[1 3 4 5 6 7] [0 2]\n",
      "[0 2 3 5 6 7] [1 4]\n",
      "[0 1 2 4 6 7] [3 5]\n",
      "[0 1 2 3 4 5] [6 7]\n"
     ]
    }
   ],
   "source": [
    "sKFold = StratifiedKFold(n_splits=4)\n",
    "\n",
    "for train,test in sKFold.split(a,b):\n",
    "    print(train,test)"
   ]
  },
  {
   "cell_type": "code",
   "execution_count": null,
   "metadata": {},
   "outputs": [],
   "source": []
  },
  {
   "cell_type": "code",
   "execution_count": 16,
   "metadata": {},
   "outputs": [],
   "source": [
    "#鸢尾花資料進行分類\n",
    "\n",
    "sKFold = StratifiedKFold(6)"
   ]
  },
  {
   "cell_type": "code",
   "execution_count": 17,
   "metadata": {},
   "outputs": [],
   "source": [
    "import warnings\n",
    "warnings.filterwarnings('ignore')\n"
   ]
  },
  {
   "cell_type": "code",
   "execution_count": 18,
   "metadata": {},
   "outputs": [],
   "source": [
    "lg = LogisticRegression()"
   ]
  },
  {
   "cell_type": "code",
   "execution_count": 19,
   "metadata": {},
   "outputs": [
    {
     "data": {
      "text/plain": [
       "<matplotlib.legend.Legend at 0x1c860dcd490>"
      ]
     },
     "execution_count": 19,
     "metadata": {},
     "output_type": "execute_result"
    },
    {
     "data": {
      "image/png": "[encoded data removed]",
      "text/plain": [
       "<Figure size 432x288 with 1 Axes>"
      ]
     },
     "metadata": {
      "needs_background": "light"
     },
     "output_type": "display_data"
    }
   ],
   "source": [
    "\n",
    "num = 1\n",
    "for train,test in sKFold.split(X,y):\n",
    "    X_train = X[train]\n",
    "    y_train = y[train]\n",
    "    \n",
    "    X_test = X[test]\n",
    "    y_test = y[test]\n",
    "    \n",
    "    lg.fit(X_train,y_train)\n",
    "    \n",
    "    prob = lg.predict_proba(X_test)[:,1]\n",
    "    \n",
    "    fpr,tpr,thresholds = roc_curve(y_test,prob)\n",
    "    auc_ = auc(fpr,tpr)\n",
    "    plt.plot(fpr,tpr,label = 'K:%d AUC:%0.2f'%(num,auc_))\n",
    "    num +=1\n",
    "    \n",
    "plt.legend()"
   ]
  },
  {
   "cell_type": "code",
   "execution_count": null,
   "metadata": {},
   "outputs": [],
   "source": []
  },
  {
   "cell_type": "code",
   "execution_count": null,
   "metadata": {},
   "outputs": [],
   "source": []
  },
  {
   "cell_type": "code",
   "execution_count": 20,
   "metadata": {},
   "outputs": [],
   "source": [
    "svc = SVC(probability=True)"
   ]
  },
  {
   "cell_type": "code",
   "execution_count": 21,
   "metadata": {},
   "outputs": [
    {
     "data": {
      "text/plain": [
       "<matplotlib.legend.Legend at 0x1c86212f370>"
      ]
     },
     "execution_count": 21,
     "metadata": {},
     "output_type": "execute_result"
    },
    {
     "data": {
      "image/png": "[encoded data removed]",
      "text/plain": [
       "<Figure size 432x288 with 1 Axes>"
      ]
     },
     "metadata": {
      "needs_background": "light"
     },
     "output_type": "display_data"
    }
   ],
   "source": [
    "num = 1\n",
    "for train,test in sKFold.split(X,y):\n",
    "    X_train = X[train]\n",
    "    y_train = y[train]\n",
    "    \n",
    "    X_test = X[test]\n",
    "    y_test = y[test]\n",
    "    \n",
    "    svc.fit(X_train,y_train)\n",
    "    \n",
    "    prob = svc.predict_proba(X_test)[:,1]\n",
    "    \n",
    "    fpr,tpr,thresholds = roc_curve(y_test,prob)\n",
    "    auc_ = auc(fpr,tpr)\n",
    "    plt.plot(fpr,tpr,label = 'K:%d AUC:%0.2f'%(num,auc_))\n",
    "    num +=1\n",
    "    \n",
    "plt.legend()"
   ]
  },
  {
   "cell_type": "code",
   "execution_count": 22,
   "metadata": {},
   "outputs": [
    {
     "data": {
      "text/plain": [
       "(100, 4)"
      ]
     },
     "execution_count": 22,
     "metadata": {},
     "output_type": "execute_result"
    }
   ],
   "source": [
    "X.shape"
   ]
  },
  {
   "cell_type": "code",
   "execution_count": 23,
   "metadata": {},
   "outputs": [
    {
     "data": {
      "text/plain": [
       "(100, 804)"
      ]
     },
     "execution_count": 23,
     "metadata": {},
     "output_type": "execute_result"
    }
   ],
   "source": [
    "X = np.concatenate([X,np.random.randn(100,800)],axis = 1)\n",
    "X.shape"
   ]
  },
  {
   "cell_type": "code",
   "execution_count": 24,
   "metadata": {},
   "outputs": [
    {
     "data": {
      "text/plain": [
       "array([[ 5.1       ,  3.5       ,  1.4       , ..., -0.81402493,\n",
       "        -0.57151408, -0.619106  ],\n",
       "       [ 4.9       ,  3.        ,  1.4       , ...,  0.36074474,\n",
       "         0.72696491, -1.25166712],\n",
       "       [ 4.7       ,  3.2       ,  1.3       , ..., -0.90183141,\n",
       "        -0.80033999,  0.17723578],\n",
       "       ...,\n",
       "       [ 6.2       ,  2.9       ,  4.3       , ..., -0.61997408,\n",
       "        -1.13713756, -0.3116283 ],\n",
       "       [ 5.1       ,  2.5       ,  3.        , ..., -0.41468409,\n",
       "         1.01064859,  0.35431606],\n",
       "       [ 5.7       ,  2.8       ,  4.1       , ..., -1.30387398,\n",
       "        -0.97112358, -0.94537277]])"
      ]
     },
     "execution_count": 24,
     "metadata": {},
     "output_type": "execute_result"
    }
   ],
   "source": [
    "X\n"
   ]
  },
  {
   "cell_type": "code",
   "execution_count": null,
   "metadata": {},
   "outputs": [],
   "source": []
  },
  {
   "cell_type": "code",
   "execution_count": null,
   "metadata": {},
   "outputs": [],
   "source": []
  },
  {
   "cell_type": "code",
   "execution_count": 29,
   "metadata": {},
   "outputs": [
    {
     "name": "stdout",
     "output_type": "stream",
     "text": [
      "SVC 平均的auc：0.95\n"
     ]
    },
    {
     "data": {
      "text/plain": [
       "<matplotlib.legend.Legend at 0x1c86246afd0>"
      ]
     },
     "execution_count": 29,
     "metadata": {},
     "output_type": "execute_result"
    },
    {
     "data": {
      "image/png": "[encoded data removed]",
      "text/plain": [
       "<Figure size 432x288 with 1 Axes>"
      ]
     },
     "metadata": {
      "needs_background": "light"
     },
     "output_type": "display_data"
    }
   ],
   "source": [
    "lg = LogisticRegression()\n",
    "num = 1\n",
    "aucs = []\n",
    "for train,test in sKFold.split(X,y):\n",
    "    X_train = X[train]\n",
    "    y_train = y[train]\n",
    "    \n",
    "    X_test = X[test]\n",
    "    y_test = y[test]\n",
    "    \n",
    "    lg.fit(X_train,y_train)\n",
    "    \n",
    "    prob = lg.predict_proba(X_test)[:,1]\n",
    "    \n",
    "    fpr,tpr,thresholds = roc_curve(y_test,prob)\n",
    "    auc_ = auc(fpr,tpr)\n",
    "    aucs.append(auc_)\n",
    "    plt.plot(fpr,tpr,label = 'K:%d AUC:%0.2f'%(num,auc_))\n",
    "    num +=1\n",
    "    \n",
    "    \n",
    "print('SVC 平均的auc：%0.2f'%(np.mean(aucs)))    \n",
    "plt.legend()"
   ]
  },
  {
   "cell_type": "code",
   "execution_count": null,
   "metadata": {},
   "outputs": [],
   "source": []
  },
  {
   "cell_type": "code",
   "execution_count": 31,
   "metadata": {},
   "outputs": [
    {
     "name": "stdout",
     "output_type": "stream",
     "text": [
      "SVC 平均的auc：0.93\n"
     ]
    },
    {
     "data": {
      "text/plain": [
       "<matplotlib.legend.Legend at 0x1c86255f1f0>"
      ]
     },
     "execution_count": 31,
     "metadata": {},
     "output_type": "execute_result"
    },
    {
     "data": {
      "image/png": "[encoded data removed]",
      "text/plain": [
       "<Figure size 432x288 with 1 Axes>"
      ]
     },
     "metadata": {
      "needs_background": "light"
     },
     "output_type": "display_data"
    }
   ],
   "source": [
    "svc=SVC(probability=True)\n",
    "num = 1\n",
    "aucs = []\n",
    "for train,test in sKFold.split(X,y):\n",
    "    X_train = X[train]\n",
    "    y_train = y[train]\n",
    "    \n",
    "    X_test = X[test]\n",
    "    y_test = y[test]\n",
    "    \n",
    "    svc.fit(X_train,y_train)\n",
    "    \n",
    "    prob = svc.predict_proba(X_test)[:,1]\n",
    "    \n",
    "    fpr,tpr,thresholds = roc_curve(y_test,prob)\n",
    "    auc_ = auc(fpr,tpr)\n",
    "    aucs.append(auc_)\n",
    "    plt.plot(fpr,tpr,label = 'K:%d AUC:%0.2f'%(num,auc_))\n",
    "    num +=1\n",
    "\n",
    "print('SVC 平均的auc：%0.2f'%(np.mean(aucs))) \n",
    "plt.legend()"
   ]
  },
  {
   "cell_type": "code",
   "execution_count": null,
   "metadata": {},
   "outputs": [],
   "source": []
  },
  {
   "cell_type": "code",
   "execution_count": null,
   "metadata": {},
   "outputs": [],
   "source": []
  },
  {
   "cell_type": "code",
   "execution_count": 34,
   "metadata": {},
   "outputs": [],
   "source": [
    "# 线性插值 才能求平均值\n",
    "from scipy import interp"
   ]
  },
  {
   "cell_type": "code",
   "execution_count": 50,
   "metadata": {},
   "outputs": [
    {
     "name": "stdout",
     "output_type": "stream",
     "text": [
      "平均的auc：0.95\n"
     ]
    },
    {
     "data": {
      "text/plain": [
       "<matplotlib.legend.Legend at 0x1c863e439a0>"
      ]
     },
     "execution_count": 50,
     "metadata": {},
     "output_type": "execute_result"
    },
    {
     "data": {
      "image/png": "[encoded data removed]",
      "text/plain": [
       "<Figure size 432x288 with 1 Axes>"
      ]
     },
     "metadata": {
      "needs_background": "light"
     },
     "output_type": "display_data"
    }
   ],
   "source": [
    "lg = LogisticRegression()\n",
    "num = 1\n",
    "aucs = []\n",
    "fprs = np.linspace(0,1,100)\n",
    "\n",
    "tprs = []\n",
    "for train,test in sKFold.split(X,y):\n",
    "    X_train = X[train]\n",
    "    y_train = y[train]\n",
    "    \n",
    "    X_test = X[test]\n",
    "    y_test = y[test]\n",
    "    \n",
    "    lg.fit(X_train,y_train)\n",
    "    \n",
    "    prob = lg.predict_proba(X_test)[:,1]\n",
    "    \n",
    "    fpr,tpr,thresholds = roc_curve(y_test,prob)\n",
    "    \n",
    "    tprs.append(interp(fprs,fpr,tpr))\n",
    "    \n",
    "    auc_ = auc(fpr,tpr)\n",
    "    aucs.append(auc_)\n",
    "    plt.plot(fpr,tpr,alpha = 0.3,label = 'K:%d AUC:%0.2f'%(num,auc_))\n",
    "    num +=1\n",
    "    \n",
    "\n",
    "# tprs中6个数据，求平均值\n",
    "tprs = np.mean(tprs,axis = 0)\n",
    "\n",
    "# 平均的tprs，和fprs，求解平均的auc值\n",
    "auc_mean = auc(fprs,tprs)\n",
    "std = np.std(aucs)\n",
    "plt.plot(fprs,tprs,label = 'Mean AUC :%0.2f $\\pm$%0.2f'%(auc_mean,std),color = 'green')\n",
    "print('平均的auc：%0.2f'%(np.mean(aucs)))\n",
    "plt.legend()"
   ]
  },
  {
   "cell_type": "code",
   "execution_count": null,
   "metadata": {},
   "outputs": [],
   "source": []
  },
  {
   "cell_type": "code",
   "execution_count": 53,
   "metadata": {},
   "outputs": [
    {
     "name": "stdout",
     "output_type": "stream",
     "text": [
      "SVC 平均的auc：0.80\n"
     ]
    },
    {
     "data": {
      "text/plain": [
       "<matplotlib.legend.Legend at 0x1c864001250>"
      ]
     },
     "execution_count": 53,
     "metadata": {},
     "output_type": "execute_result"
    },
    {
     "data": {
      "image/png": "[encoded data removed]",
      "text/plain": [
       "<Figure size 432x288 with 1 Axes>"
      ]
     },
     "metadata": {
      "needs_background": "light"
     },
     "output_type": "display_data"
    }
   ],
   "source": [
    "svc = SVC(probability=True)\n",
    "num = 1\n",
    "aucs = []\n",
    "\n",
    "fprs = np.linspace(0,1,100)\n",
    "\n",
    "tprs = []\n",
    "\n",
    "for train,test in sKFold.split(X,y):\n",
    "    X_train = X[train]\n",
    "    y_train = y[train]\n",
    "    \n",
    "    X_test = X[test]\n",
    "    y_test = y[test]\n",
    "    \n",
    "    svc.fit(X_train,y_train)\n",
    "    \n",
    "    prob = svc.predict_proba(X_test)[:,1]\n",
    "    \n",
    "    fpr,tpr,thresholds = roc_curve(y_test,prob)\n",
    "    \n",
    "    tprs.append(interp(fprs,fpr,tpr))\n",
    "    \n",
    "    auc_ = auc(fpr,tpr)\n",
    "    aucs.append(auc_)\n",
    "    plt.plot(fpr,tpr,label = 'K:%d AUC:%0.2f'%(num,auc_),alpha = 0.3)\n",
    "    num +=1\n",
    "    \n",
    "tprs = np.mean(tprs,axis = 0)\n",
    "\n",
    "auc_mean = auc(fprs,tprs)\n",
    "\n",
    "std = np.std(aucs)\n",
    "\n",
    "plt.plot(fprs,tprs,label = 'Mean AUC :%0.2f $\\pm$%0.2f'%(auc_mean,std),color = 'green')\n",
    "\n",
    "print('SVC 平均的auc：%0.2f'%(np.mean(aucs)))   \n",
    "plt.legend()"
   ]
  },
  {
   "cell_type": "code",
   "execution_count": null,
   "metadata": {},
   "outputs": [],
   "source": []
  },
  {
   "cell_type": "code",
   "execution_count": null,
   "metadata": {},
   "outputs": [],
   "source": []
  }
 ],
 "metadata": {
  "kernelspec": {
   "display_name": "Python 3",
   "language": "python",
   "name": "python3"
  },
  "language_info": {
   "codemirror_mode": {
    "name": "ipython",
    "version": 3
   },
   "file_extension": ".py",
   "mimetype": "text/x-python",
   "name": "python",
   "nbconvert_exporter": "python",
   "pygments_lexer": "ipython3",
   "version": "3.8.5"
  }
 },
 "nbformat": 4,
 "nbformat_minor": 4
}
