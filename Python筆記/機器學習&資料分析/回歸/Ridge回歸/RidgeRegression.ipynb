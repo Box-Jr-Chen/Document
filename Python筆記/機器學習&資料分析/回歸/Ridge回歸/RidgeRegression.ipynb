{
 "cells": [
  {
   "cell_type": "code",
   "execution_count": 3,
   "metadata": {},
   "outputs": [],
   "source": [
    "import numpy as np \n",
    "\n",
    "from sklearn.linear_model import LinearRegression,Ridge\n",
    "\n",
    "import sklearn.datasets as datasets"
   ]
  },
  {
   "cell_type": "code",
   "execution_count": 5,
   "metadata": {},
   "outputs": [],
   "source": [
    "boston = datasets.load_boston()"
   ]
  },
  {
   "cell_type": "code",
   "execution_count": 6,
   "metadata": {},
   "outputs": [],
   "source": [
    "X  =  boston['data']\n",
    "y  =  boston['target']"
   ]
  },
  {
   "cell_type": "code",
   "execution_count": 7,
   "metadata": {},
   "outputs": [],
   "source": [
    "from sklearn.model_selection import train_test_split\n"
   ]
  },
  {
   "cell_type": "code",
   "execution_count": 9,
   "metadata": {},
   "outputs": [],
   "source": [
    "X_train,X_test,y_train,y_test  =train_test_split(X,y,test_size =0.2)"
   ]
  },
  {
   "cell_type": "code",
   "execution_count": 10,
   "metadata": {},
   "outputs": [
    {
     "data": {
      "text/plain": [
       "LinearRegression()"
      ]
     },
     "execution_count": 10,
     "metadata": {},
     "output_type": "execute_result"
    }
   ],
   "source": [
    "lr = LinearRegression()\n",
    "\n",
    "lr.fit(X_train,y_train)"
   ]
  },
  {
   "cell_type": "code",
   "execution_count": 16,
   "metadata": {
    "scrolled": true
   },
   "outputs": [
    {
     "data": {
      "text/plain": [
       "array([-1.0800e-01,  4.9000e-02,  2.5000e-02,  3.2990e+00, -1.5807e+01,\n",
       "        4.0270e+00, -5.0000e-03, -1.4540e+00,  2.7200e-01, -1.2000e-02,\n",
       "       -9.2600e-01,  8.0000e-03, -5.0300e-01])"
      ]
     },
     "metadata": {},
     "output_type": "display_data"
    },
    {
     "data": {
      "text/plain": [
       "0.7139268659281095"
      ]
     },
     "metadata": {},
     "output_type": "display_data"
    }
   ],
   "source": [
    "display(lr.coef_.round(3),lr.score(X_test,y_test))"
   ]
  },
  {
   "cell_type": "code",
   "execution_count": 19,
   "metadata": {
    "scrolled": true
   },
   "outputs": [
    {
     "data": {
      "text/plain": [
       "array([25.27, 21.15, 27.26, 17.64, 30.76,  9.16, 28.89, 11.51, 15.13,\n",
       "        9.58, 11.52, 27.68, 38.01, 28.78, 15.69, 33.57, 15.32, 21.77,\n",
       "       24.57, 13.42, 26.61, 11.2 , 16.02, 16.39, 32.53, 36.31, 13.63,\n",
       "       21.04, 16.1 , 31.98, 30.51, 24.59, 23.3 , 30.77, 32.16, 27.9 ,\n",
       "       13.74, 17.85, 21.92, 15.96, 30.59, 22.87, 15.18, 30.63, 43.47,\n",
       "       31.36, 28.33, 28.4 , 24.99, 22.2 , 22.88, 32.38, 24.25, 17.99,\n",
       "       19.62, 17.3 , 23.74, 33.73, 11.59,  9.53, 15.4 , 24.03, 26.93,\n",
       "       17.45, 14.78, 20.34, 26.44, 24.49, 23.65, 15.6 , 30.36, 19.1 ,\n",
       "       24.74, 34.45,  5.77, 36.75, 26.76, 25.06, 13.66, 22.28, 15.64,\n",
       "       19.35, 16.69, 21.35, 35.81, 34.65, 27.03, 23.53, 31.08, 22.15,\n",
       "       20.93, 14.25, 24.11, 18.21, 17.25, 23.06, 22.4 , 17.32, 22.59,\n",
       "       20.22, 37.17, 22.79])"
      ]
     },
     "execution_count": 19,
     "metadata": {},
     "output_type": "execute_result"
    }
   ],
   "source": [
    "lr.predict(X_test).round(2)"
   ]
  },
  {
   "cell_type": "code",
   "execution_count": 22,
   "metadata": {},
   "outputs": [
    {
     "data": {
      "text/plain": [
       "array([-1.08043364e-01,  4.94581615e-02,  2.49944662e-02,  3.29907024e+00,\n",
       "       -1.58073737e+01,  4.02652862e+00, -4.92530603e-03, -1.45365662e+00,\n",
       "        2.71893933e-01, -1.18348402e-02, -9.25640806e-01,  7.51060340e-03,\n",
       "       -5.03225988e-01])"
      ]
     },
     "metadata": {},
     "output_type": "display_data"
    },
    {
     "data": {
      "text/plain": [
       "0.7139268659281115"
      ]
     },
     "metadata": {},
     "output_type": "display_data"
    }
   ],
   "source": [
    "#tol -->tolerate # 容忍的誤差是多少\n",
    "ridge = Ridge(alpha =0,tol=0.00001)\n",
    "\n",
    "\n",
    "ridge.fit(X_train,y_train)\n",
    "\n",
    "display(ridge.coef_,ridge.score(X_test,y_test))"
   ]
  },
  {
   "cell_type": "code",
   "execution_count": 20,
   "metadata": {},
   "outputs": [
    {
     "data": {
      "text/plain": [
       "array([24.14, 21.21, 27.68, 17.31, 30.47, 12.67, 28.2 , 11.85, 15.75,\n",
       "       10.84, 10.8 , 28.07, 35.97, 29.88, 16.13, 33.48, 18.89, 22.76,\n",
       "       24.69, 14.85, 25.39, 10.87, 17.51, 16.53, 31.93, 32.57, 14.15,\n",
       "       21.29, 16.2 , 30.96, 29.97, 25.37, 20.3 , 30.13, 31.38, 27.76,\n",
       "       14.18, 22.18, 22.6 , 13.8 , 30.57, 26.64, 18.65, 30.85, 41.53,\n",
       "       31.53, 28.04, 27.32, 24.92, 23.77, 23.48, 31.94, 24.55, 19.34,\n",
       "       20.43, 18.23, 24.97, 33.59,  9.34,  9.39, 14.09, 23.9 , 27.46,\n",
       "       18.03, 15.44, 21.91, 26.42, 23.97, 23.34, 16.46, 30.07, 21.73,\n",
       "       25.37, 34.52,  7.25, 36.09, 27.89, 25.69, 12.04, 21.66, 15.62,\n",
       "       19.73, 15.86, 21.87, 36.71, 32.77, 26.48, 24.66, 30.51, 22.88,\n",
       "       21.06, 14.99, 23.15, 18.15, 17.8 , 23.8 , 23.67, 18.13, 22.9 ,\n",
       "       20.19, 34.97, 19.71])"
      ]
     },
     "execution_count": 20,
     "metadata": {},
     "output_type": "execute_result"
    }
   ],
   "source": [
    "ridge.predict(X_test).round(2)"
   ]
  },
  {
   "cell_type": "code",
   "execution_count": null,
   "metadata": {},
   "outputs": [],
   "source": []
  }
 ],
 "metadata": {
  "kernelspec": {
   "display_name": "Python 3",
   "language": "python",
   "name": "python3"
  },
  "language_info": {
   "codemirror_mode": {
    "name": "ipython",
    "version": 3
   },
   "file_extension": ".py",
   "mimetype": "text/x-python",
   "name": "python",
   "nbconvert_exporter": "python",
   "pygments_lexer": "ipython3",
   "version": "3.8.5"
  }
 },
 "nbformat": 4,
 "nbformat_minor": 4
}
