{
 "cells": [
  {
   "cell_type": "code",
   "execution_count": 1,
   "metadata": {},
   "outputs": [],
   "source": [
    "import numpy as np\n",
    "\n",
    "import matplotlib.pyplot as plt\n",
    "%matplotlib inline\n",
    "\n",
    "from sklearn.svm import SVC\n",
    "\n",
    "import sklearn.datasets as datasets"
   ]
  },
  {
   "cell_type": "code",
   "execution_count": 2,
   "metadata": {},
   "outputs": [],
   "source": [
    "X,y = datasets.make_blobs(n_samples=50,centers=2) #生成點"
   ]
  },
  {
   "cell_type": "code",
   "execution_count": 5,
   "metadata": {},
   "outputs": [
    {
     "data": {
      "text/plain": [
       "(50, 2)"
      ]
     },
     "execution_count": 5,
     "metadata": {},
     "output_type": "execute_result"
    }
   ],
   "source": [
    "X.shape"
   ]
  },
  {
   "cell_type": "code",
   "execution_count": 7,
   "metadata": {},
   "outputs": [
    {
     "data": {
      "text/plain": [
       "array([[-6.99988004e+00,  6.23779756e+00],\n",
       "       [-3.87648670e+00, -1.40680667e+00],\n",
       "       [-4.10147892e+00, -5.20262850e-01],\n",
       "       [-3.45682957e+00,  5.04842095e-01],\n",
       "       [-6.18859771e+00,  4.34270740e+00],\n",
       "       [-3.90579327e+00, -5.28015998e-01],\n",
       "       [-6.86563262e+00,  4.97547369e+00],\n",
       "       [-3.30758827e+00,  3.91439395e-01],\n",
       "       [-2.00739442e+00, -3.87608522e-01],\n",
       "       [-6.56691665e+00,  3.55854096e+00],\n",
       "       [-5.00295062e-01, -1.45228749e+00],\n",
       "       [-4.40388271e+00, -8.47388779e-02],\n",
       "       [-2.95031067e+00,  8.03927181e-01],\n",
       "       [-3.55497946e+00, -4.65733482e-03],\n",
       "       [-7.35418324e+00,  4.17794367e+00],\n",
       "       [-5.45880220e+00,  3.84536551e+00],\n",
       "       [-6.51276259e+00,  5.72073413e+00],\n",
       "       [-2.35049159e+00,  8.73206391e-01],\n",
       "       [-1.93991528e+00,  7.20618301e-01],\n",
       "       [-2.40486146e+00, -7.05187141e-01],\n",
       "       [-3.25632448e+00, -1.78594781e-01],\n",
       "       [-5.81472041e+00,  1.48176705e+00],\n",
       "       [-6.43536900e+00,  5.07047482e+00],\n",
       "       [-3.98373049e+00,  5.14199337e-01],\n",
       "       [-7.22318903e+00,  4.20741698e+00],\n",
       "       [-7.18409667e+00,  4.58833776e+00],\n",
       "       [-5.53274954e+00,  5.27048826e-02],\n",
       "       [-6.22589637e+00,  4.53662070e+00],\n",
       "       [-6.97822619e+00,  4.60394678e+00],\n",
       "       [-6.88945062e+00,  3.59750128e+00],\n",
       "       [-6.68429106e+00,  4.28680959e+00],\n",
       "       [-8.33601666e+00,  5.17689527e+00],\n",
       "       [-7.34302287e+00,  6.53077612e+00],\n",
       "       [-3.28678746e+00, -1.71299956e+00],\n",
       "       [-3.14194501e+00,  5.04156889e-01],\n",
       "       [-7.97253733e+00,  5.49393129e+00],\n",
       "       [-4.37769614e+00,  1.33477880e+00],\n",
       "       [-7.64954810e+00,  3.72746376e+00],\n",
       "       [-7.59041106e+00,  5.39093916e+00],\n",
       "       [-3.46777999e+00,  2.99943325e-01],\n",
       "       [-7.70292851e+00,  3.13536450e+00],\n",
       "       [-2.18375465e+00, -8.22986043e-02],\n",
       "       [-6.88240230e+00,  2.59438208e-01],\n",
       "       [-3.49179656e+00, -1.12477497e+00],\n",
       "       [-6.93382651e+00,  5.31191665e+00],\n",
       "       [-6.98977485e+00,  4.60938775e+00],\n",
       "       [-3.36620206e+00, -1.13491603e+00],\n",
       "       [-7.16415959e+00,  4.63978630e+00],\n",
       "       [-3.75217843e+00, -2.10659859e+00],\n",
       "       [-7.73409111e+00,  5.98013020e+00]])"
      ]
     },
     "execution_count": 7,
     "metadata": {},
     "output_type": "execute_result"
    }
   ],
   "source": [
    "X"
   ]
  },
  {
   "cell_type": "code",
   "execution_count": 4,
   "metadata": {
    "scrolled": true
   },
   "outputs": [
    {
     "data": {
      "text/plain": [
       "array([0, 1, 1, 1, 0, 1, 0, 1, 1, 0, 1, 1, 1, 1, 0, 0, 0, 1, 1, 1, 1, 0,\n",
       "       0, 1, 0, 0, 1, 0, 0, 0, 0, 0, 0, 1, 1, 0, 1, 0, 0, 1, 0, 1, 1, 1,\n",
       "       0, 0, 1, 0, 1, 0])"
      ]
     },
     "execution_count": 4,
     "metadata": {},
     "output_type": "execute_result"
    }
   ],
   "source": [
    "y"
   ]
  },
  {
   "cell_type": "code",
   "execution_count": 16,
   "metadata": {},
   "outputs": [],
   "source": [
    "from matplotlib.colors import ListedColormap"
   ]
  },
  {
   "cell_type": "code",
   "execution_count": 17,
   "metadata": {},
   "outputs": [],
   "source": [
    "color = ListedColormap([(1.0,0,0),(0,1.0,0)])"
   ]
  },
  {
   "cell_type": "code",
   "execution_count": 44,
   "metadata": {},
   "outputs": [
    {
     "data": {
      "text/plain": [
       "<matplotlib.collections.PathCollection at 0x18dbe3c4070>"
      ]
     },
     "execution_count": 44,
     "metadata": {},
     "output_type": "execute_result"
    },
    {
     "data": {
      "image/png": "[encoded data removed]",
      "text/plain": [
       "<Figure size 432x288 with 1 Axes>"
      ]
     },
     "metadata": {
      "needs_background": "light"
     },
     "output_type": "display_data"
    }
   ],
   "source": [
    "X,y = datasets.make_blobs(n_samples=100,centers=2)\n",
    "plt.scatter(X[:,0],X[:,1],c=y,cmap =color)"
   ]
  },
  {
   "cell_type": "code",
   "execution_count": null,
   "metadata": {},
   "outputs": [],
   "source": []
  },
  {
   "cell_type": "code",
   "execution_count": 45,
   "metadata": {
    "scrolled": true
   },
   "outputs": [
    {
     "data": {
      "text/plain": [
       "SVC(kernel='linear')"
      ]
     },
     "execution_count": 45,
     "metadata": {},
     "output_type": "execute_result"
    }
   ],
   "source": [
    "svc = SVC(kernel='linear')\n",
    "\n",
    "svc.fit(X,y)"
   ]
  },
  {
   "cell_type": "code",
   "execution_count": 46,
   "metadata": {},
   "outputs": [
    {
     "data": {
      "text/plain": [
       "array([[ 0.10783715, -0.09263543]])"
      ]
     },
     "execution_count": 46,
     "metadata": {},
     "output_type": "execute_result"
    }
   ],
   "source": [
    "svc.coef_"
   ]
  },
  {
   "cell_type": "code",
   "execution_count": 47,
   "metadata": {},
   "outputs": [],
   "source": [
    "w1,w2 = svc.coef_[0]"
   ]
  },
  {
   "cell_type": "code",
   "execution_count": 48,
   "metadata": {},
   "outputs": [],
   "source": [
    "b, = svc.intercept_ #截距"
   ]
  },
  {
   "cell_type": "code",
   "execution_count": 49,
   "metadata": {},
   "outputs": [],
   "source": [
    "#f(X) = w1*x1 + w2*x2 + b==> 將方程式取於0就是等於答案"
   ]
  },
  {
   "cell_type": "code",
   "execution_count": 50,
   "metadata": {},
   "outputs": [
    {
     "data": {
      "text/plain": [
       "array([-4.14375559,  5.94788796])"
      ]
     },
     "execution_count": 50,
     "metadata": {},
     "output_type": "execute_result"
    }
   ],
   "source": [
    "X[0]"
   ]
  },
  {
   "cell_type": "code",
   "execution_count": 51,
   "metadata": {},
   "outputs": [
    {
     "data": {
      "text/plain": [
       "-1.0977625127017954"
      ]
     },
     "execution_count": 51,
     "metadata": {},
     "output_type": "execute_result"
    }
   ],
   "source": [
    "X[0][0]*w1 + X[0][1]*w2 + b"
   ]
  },
  {
   "cell_type": "code",
   "execution_count": 52,
   "metadata": {},
   "outputs": [
    {
     "data": {
      "text/plain": [
       "-1.3458172473269132"
      ]
     },
     "execution_count": 52,
     "metadata": {},
     "output_type": "execute_result"
    }
   ],
   "source": [
    "X[5][0]*w1 + X[5][1]*w2 + b"
   ]
  },
  {
   "cell_type": "code",
   "execution_count": 53,
   "metadata": {},
   "outputs": [
    {
     "data": {
      "text/plain": [
       "array([-1.09776251,  1.30944459, -1.14742737, -1.01738663, -1.09883073,\n",
       "       -1.34581725,  1.38928999,  1.42926439, -1.2627899 ,  1.44334394,\n",
       "       -1.03490748,  1.32387584, -1.31921869,  1.3208744 , -1.19333712,\n",
       "        1.29661585, -1.36787874, -1.18684372,  1.00544098, -1.42690376,\n",
       "        1.24203656,  1.31651223, -1.25296279,  1.19339214,  1.60744819,\n",
       "       -1.2454087 ,  1.22540228,  1.45048239,  1.36356025, -1.2457929 ,\n",
       "       -1.28450509,  1.29714612, -1.11752375, -1.41564312,  1.04711067,\n",
       "        1.28283458, -1.09662904, -1.31348261, -1.48371738,  1.26456601,\n",
       "        1.40829109,  1.59258804, -1.25239974, -1.27720476, -1.05901508,\n",
       "        1.49245135, -1.3357824 , -1.29586739,  1.38697061,  1.34361682,\n",
       "       -1.18474169,  1.1931509 , -1.0466453 ,  1.52855675,  1.45558389,\n",
       "        1.14160784,  1.16785851,  1.44154807, -1.51991005, -1.14118261,\n",
       "       -1.46301346, -1.3582915 , -1.30093423, -1.36752411, -1.07038799,\n",
       "       -1.30739287,  1.23551125,  1.11315461, -1.62720489,  1.11507099,\n",
       "        1.25030907, -1.26450471,  1.29254316,  1.47890247, -1.23752071,\n",
       "       -1.19569765,  1.175042  , -1.14739774,  1.00000001, -1.01872365,\n",
       "        1.4149308 ,  1.55969317, -1.4233438 ,  1.4117084 , -1.00000004,\n",
       "       -1.00555542, -1.31597474, -1.19761438,  1.02941585, -1.26910906,\n",
       "        1.46027685,  1.32626054,  1.22320595,  1.02946103,  1.2917167 ,\n",
       "        1.18490034,  1.34371857,  1.24654383, -1.1948572 , -1.2784534 ])"
      ]
     },
     "execution_count": 53,
     "metadata": {},
     "output_type": "execute_result"
    }
   ],
   "source": [
    "X[:,0]*w1 + X[:,1]*w2 + b"
   ]
  },
  {
   "cell_type": "markdown",
   "metadata": {},
   "source": [
    "# 0 = w1*x + w2*y + b\n",
    "\n",
    "# y = -w1/w2*x - b/w2\n",
    "\n",
    "\n",
    "# 1 = w1*x + w2*y + b(支持向量最大)\n",
    "\n",
    "# -1 = w1*x + w2*y + b(支持向量最小)\n",
    "\n"
   ]
  },
  {
   "cell_type": "code",
   "execution_count": 61,
   "metadata": {},
   "outputs": [],
   "source": [
    "b1 = -(b + 1)/w2 # (支持向量最大斜率)\n",
    "\n",
    "b2 = -(b - 1)/w2 # (支持向量最小斜率)\n",
    "\n",
    "w = -w1/w2\n",
    "\n",
    "b_ = -b/w2"
   ]
  },
  {
   "cell_type": "code",
   "execution_count": 55,
   "metadata": {},
   "outputs": [],
   "source": [
    "support_vectors_ = svc.support_vectors_  #支持向量"
   ]
  },
  {
   "cell_type": "code",
   "execution_count": 60,
   "metadata": {
    "scrolled": true
   },
   "outputs": [
    {
     "data": {
      "text/plain": [
       "[<matplotlib.lines.Line2D at 0x18dbe56bf10>]"
      ]
     },
     "execution_count": 60,
     "metadata": {},
     "output_type": "execute_result"
    },
    {
     "data": {
      "image/png": "[encoded data removed]",
      "text/plain": [
       "<Figure size 432x288 with 1 Axes>"
      ]
     },
     "metadata": {
      "needs_background": "light"
     },
     "output_type": "display_data"
    }
   ],
   "source": [
    "plt.scatter(X[:,0],X[:,1],c=y,cmap =color)\n",
    "\n",
    "x = np.linspace(-2,2,50)\n",
    "\n",
    "plt.plot(x,x*w + b_)\n",
    "\n",
    "plt.scatter(support_vectors_[:,0],support_vectors_[:,1],color = 'purple',s = 300,alpha = 0.3)\n",
    "\n",
    "plt.plot(x,x*w + b1,ls = '--')\n",
    "\n",
    "plt.plot(x,x*w + b2 ,ls = '--')"
   ]
  },
  {
   "cell_type": "code",
   "execution_count": null,
   "metadata": {},
   "outputs": [],
   "source": []
  },
  {
   "cell_type": "markdown",
   "metadata": {},
   "source": []
  },
  {
   "cell_type": "code",
   "execution_count": null,
   "metadata": {},
   "outputs": [],
   "source": []
  }
 ],
 "metadata": {
  "kernelspec": {
   "display_name": "Python 3",
   "language": "python",
   "name": "python3"
  },
  "language_info": {
   "codemirror_mode": {
    "name": "ipython",
    "version": 3
   },
   "file_extension": ".py",
   "mimetype": "text/x-python",
   "name": "python",
   "nbconvert_exporter": "python",
   "pygments_lexer": "ipython3",
   "version": "3.8.5"
  }
 },
 "nbformat": 4,
 "nbformat_minor": 4
}
