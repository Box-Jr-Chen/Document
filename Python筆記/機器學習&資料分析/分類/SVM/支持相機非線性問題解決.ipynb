{
 "cells": [
  {
   "cell_type": "code",
   "execution_count": 1,
   "metadata": {},
   "outputs": [],
   "source": [
    "import numpy as np\n",
    "\n",
    "import matplotlib.pyplot as plt\n",
    "%matplotlib inline"
   ]
  },
  {
   "cell_type": "code",
   "execution_count": 2,
   "metadata": {},
   "outputs": [],
   "source": [
    "from sklearn.svm import SVR"
   ]
  },
  {
   "cell_type": "code",
   "execution_count": 3,
   "metadata": {},
   "outputs": [
    {
     "data": {
      "text/plain": [
       "(30, 1)"
      ]
     },
     "execution_count": 3,
     "metadata": {},
     "output_type": "execute_result"
    }
   ],
   "source": [
    "X = np.linspace(-5,5,30).reshape(-1,1)\n",
    "X.shape"
   ]
  },
  {
   "cell_type": "code",
   "execution_count": 6,
   "metadata": {},
   "outputs": [
    {
     "data": {
      "text/plain": [
       "array([[-5.        ],\n",
       "       [-4.65517241],\n",
       "       [-4.31034483],\n",
       "       [-3.96551724],\n",
       "       [-3.62068966],\n",
       "       [-3.27586207],\n",
       "       [-2.93103448],\n",
       "       [-2.5862069 ],\n",
       "       [-2.24137931],\n",
       "       [-1.89655172],\n",
       "       [-1.55172414],\n",
       "       [-1.20689655],\n",
       "       [-0.86206897],\n",
       "       [-0.51724138],\n",
       "       [-0.17241379],\n",
       "       [ 0.17241379],\n",
       "       [ 0.51724138],\n",
       "       [ 0.86206897],\n",
       "       [ 1.20689655],\n",
       "       [ 1.55172414],\n",
       "       [ 1.89655172],\n",
       "       [ 2.24137931],\n",
       "       [ 2.5862069 ],\n",
       "       [ 2.93103448],\n",
       "       [ 3.27586207],\n",
       "       [ 3.62068966],\n",
       "       [ 3.96551724],\n",
       "       [ 4.31034483],\n",
       "       [ 4.65517241],\n",
       "       [ 5.        ]])"
      ]
     },
     "execution_count": 6,
     "metadata": {},
     "output_type": "execute_result"
    }
   ],
   "source": [
    "X\n"
   ]
  },
  {
   "cell_type": "code",
   "execution_count": 4,
   "metadata": {},
   "outputs": [
    {
     "data": {
      "text/plain": [
       "array([[39.        ],\n",
       "       [34.63614744],\n",
       "       [30.51010702],\n",
       "       [26.62187872],\n",
       "       [22.97146254],\n",
       "       [19.5588585 ],\n",
       "       [16.38406659],\n",
       "       [13.4470868 ],\n",
       "       [10.74791914],\n",
       "       [ 8.28656361],\n",
       "       [ 6.06302021],\n",
       "       [ 4.07728894],\n",
       "       [ 2.3293698 ],\n",
       "       [ 0.81926278],\n",
       "       [-0.4530321 ],\n",
       "       [-1.48751486],\n",
       "       [-2.28418549],\n",
       "       [-2.843044  ],\n",
       "       [-3.16409037],\n",
       "       [-3.24732461],\n",
       "       [-3.09274673],\n",
       "       [-2.70035672],\n",
       "       [-2.07015458],\n",
       "       [-1.20214031],\n",
       "       [-0.09631391],\n",
       "       [ 1.24732461],\n",
       "       [ 2.82877527],\n",
       "       [ 4.64803805],\n",
       "       [ 6.70511296],\n",
       "       [ 9.        ]])"
      ]
     },
     "execution_count": 4,
     "metadata": {},
     "output_type": "execute_result"
    }
   ],
   "source": [
    "y = (X - 3)**2 + 3*X - 10\n",
    "y"
   ]
  },
  {
   "cell_type": "code",
   "execution_count": null,
   "metadata": {},
   "outputs": [],
   "source": []
  },
  {
   "cell_type": "code",
   "execution_count": 19,
   "metadata": {},
   "outputs": [
    {
     "data": {
      "text/plain": [
       "array([[35.        ],\n",
       "       [31.6706302 ],\n",
       "       [28.57907253],\n",
       "       [25.72532699],\n",
       "       [23.10939358],\n",
       "       [20.73127229],\n",
       "       [18.59096314],\n",
       "       [16.68846611],\n",
       "       [15.02378121],\n",
       "       [13.59690844],\n",
       "       [12.4078478 ],\n",
       "       [11.45659929],\n",
       "       [10.7431629 ],\n",
       "       [10.26753864],\n",
       "       [10.02972652],\n",
       "       [10.02972652],\n",
       "       [10.26753864],\n",
       "       [10.7431629 ],\n",
       "       [11.45659929],\n",
       "       [12.4078478 ],\n",
       "       [13.59690844],\n",
       "       [15.02378121],\n",
       "       [16.68846611],\n",
       "       [18.59096314],\n",
       "       [20.73127229],\n",
       "       [23.10939358],\n",
       "       [25.72532699],\n",
       "       [28.57907253],\n",
       "       [31.6706302 ],\n",
       "       [35.        ]])"
      ]
     },
     "execution_count": 19,
     "metadata": {},
     "output_type": "execute_result"
    }
   ],
   "source": [
    "y = (X)**2 +10\n",
    "y"
   ]
  },
  {
   "cell_type": "code",
   "execution_count": null,
   "metadata": {},
   "outputs": [],
   "source": []
  },
  {
   "cell_type": "code",
   "execution_count": 7,
   "metadata": {},
   "outputs": [],
   "source": [
    "from sklearn.linear_model import LinearRegression #線性只能解決縣性問題"
   ]
  },
  {
   "cell_type": "code",
   "execution_count": 8,
   "metadata": {},
   "outputs": [
    {
     "data": {
      "text/plain": [
       "LinearRegression()"
      ]
     },
     "execution_count": 8,
     "metadata": {},
     "output_type": "execute_result"
    }
   ],
   "source": [
    "lr = LinearRegression()\n",
    "\n",
    "lr.fit(X,y)"
   ]
  },
  {
   "cell_type": "code",
   "execution_count": null,
   "metadata": {},
   "outputs": [],
   "source": []
  },
  {
   "cell_type": "code",
   "execution_count": 10,
   "metadata": {
    "scrolled": false
   },
   "outputs": [
    {
     "data": {
      "text/plain": [
       "array([[-5.        ],\n",
       "       [-4.92248062],\n",
       "       [-4.84496124],\n",
       "       [-4.76744186],\n",
       "       [-4.68992248],\n",
       "       [-4.6124031 ],\n",
       "       [-4.53488372],\n",
       "       [-4.45736434],\n",
       "       [-4.37984496],\n",
       "       [-4.30232558],\n",
       "       [-4.2248062 ],\n",
       "       [-4.14728682],\n",
       "       [-4.06976744],\n",
       "       [-3.99224806],\n",
       "       [-3.91472868],\n",
       "       [-3.8372093 ],\n",
       "       [-3.75968992],\n",
       "       [-3.68217054],\n",
       "       [-3.60465116],\n",
       "       [-3.52713178],\n",
       "       [-3.4496124 ],\n",
       "       [-3.37209302],\n",
       "       [-3.29457364],\n",
       "       [-3.21705426],\n",
       "       [-3.13953488],\n",
       "       [-3.0620155 ],\n",
       "       [-2.98449612],\n",
       "       [-2.90697674],\n",
       "       [-2.82945736],\n",
       "       [-2.75193798],\n",
       "       [-2.6744186 ],\n",
       "       [-2.59689922],\n",
       "       [-2.51937984],\n",
       "       [-2.44186047],\n",
       "       [-2.36434109],\n",
       "       [-2.28682171],\n",
       "       [-2.20930233],\n",
       "       [-2.13178295],\n",
       "       [-2.05426357],\n",
       "       [-1.97674419],\n",
       "       [-1.89922481],\n",
       "       [-1.82170543],\n",
       "       [-1.74418605],\n",
       "       [-1.66666667],\n",
       "       [-1.58914729],\n",
       "       [-1.51162791],\n",
       "       [-1.43410853],\n",
       "       [-1.35658915],\n",
       "       [-1.27906977],\n",
       "       [-1.20155039],\n",
       "       [-1.12403101],\n",
       "       [-1.04651163],\n",
       "       [-0.96899225],\n",
       "       [-0.89147287],\n",
       "       [-0.81395349],\n",
       "       [-0.73643411],\n",
       "       [-0.65891473],\n",
       "       [-0.58139535],\n",
       "       [-0.50387597],\n",
       "       [-0.42635659],\n",
       "       [-0.34883721],\n",
       "       [-0.27131783],\n",
       "       [-0.19379845],\n",
       "       [-0.11627907],\n",
       "       [-0.03875969],\n",
       "       [ 0.03875969],\n",
       "       [ 0.11627907],\n",
       "       [ 0.19379845],\n",
       "       [ 0.27131783],\n",
       "       [ 0.34883721],\n",
       "       [ 0.42635659],\n",
       "       [ 0.50387597],\n",
       "       [ 0.58139535],\n",
       "       [ 0.65891473],\n",
       "       [ 0.73643411],\n",
       "       [ 0.81395349],\n",
       "       [ 0.89147287],\n",
       "       [ 0.96899225],\n",
       "       [ 1.04651163],\n",
       "       [ 1.12403101],\n",
       "       [ 1.20155039],\n",
       "       [ 1.27906977],\n",
       "       [ 1.35658915],\n",
       "       [ 1.43410853],\n",
       "       [ 1.51162791],\n",
       "       [ 1.58914729],\n",
       "       [ 1.66666667],\n",
       "       [ 1.74418605],\n",
       "       [ 1.82170543],\n",
       "       [ 1.89922481],\n",
       "       [ 1.97674419],\n",
       "       [ 2.05426357],\n",
       "       [ 2.13178295],\n",
       "       [ 2.20930233],\n",
       "       [ 2.28682171],\n",
       "       [ 2.36434109],\n",
       "       [ 2.44186047],\n",
       "       [ 2.51937984],\n",
       "       [ 2.59689922],\n",
       "       [ 2.6744186 ],\n",
       "       [ 2.75193798],\n",
       "       [ 2.82945736],\n",
       "       [ 2.90697674],\n",
       "       [ 2.98449612],\n",
       "       [ 3.0620155 ],\n",
       "       [ 3.13953488],\n",
       "       [ 3.21705426],\n",
       "       [ 3.29457364],\n",
       "       [ 3.37209302],\n",
       "       [ 3.4496124 ],\n",
       "       [ 3.52713178],\n",
       "       [ 3.60465116],\n",
       "       [ 3.68217054],\n",
       "       [ 3.75968992],\n",
       "       [ 3.8372093 ],\n",
       "       [ 3.91472868],\n",
       "       [ 3.99224806],\n",
       "       [ 4.06976744],\n",
       "       [ 4.14728682],\n",
       "       [ 4.2248062 ],\n",
       "       [ 4.30232558],\n",
       "       [ 4.37984496],\n",
       "       [ 4.45736434],\n",
       "       [ 4.53488372],\n",
       "       [ 4.6124031 ],\n",
       "       [ 4.68992248],\n",
       "       [ 4.76744186],\n",
       "       [ 4.84496124],\n",
       "       [ 4.92248062],\n",
       "       [ 5.        ]])"
      ]
     },
     "execution_count": 10,
     "metadata": {},
     "output_type": "execute_result"
    }
   ],
   "source": [
    "X_test = np.linspace(-5,5,130).reshape(-1,1)\n",
    "X_test"
   ]
  },
  {
   "cell_type": "code",
   "execution_count": 11,
   "metadata": {},
   "outputs": [],
   "source": [
    "y_ = lr.predict(X_test)"
   ]
  },
  {
   "cell_type": "code",
   "execution_count": 12,
   "metadata": {},
   "outputs": [
    {
     "data": {
      "text/plain": [
       "[<matplotlib.lines.Line2D at 0x21201060400>]"
      ]
     },
     "execution_count": 12,
     "metadata": {},
     "output_type": "execute_result"
    },
    {
     "data": {
      "image/png": "[encoded data removed]",
      "text/plain": [
       "<Figure size 432x288 with 1 Axes>"
      ]
     },
     "metadata": {
      "needs_background": "light"
     },
     "output_type": "display_data"
    }
   ],
   "source": [
    "plt.scatter(X,y)\n",
    "plt.plot(X_test,y_,c = 'r')"
   ]
  },
  {
   "cell_type": "code",
   "execution_count": null,
   "metadata": {},
   "outputs": [],
   "source": []
  },
  {
   "cell_type": "code",
   "execution_count": 20,
   "metadata": {},
   "outputs": [
    {
     "name": "stderr",
     "output_type": "stream",
     "text": [
      "C:\\Users\\box62\\.conda\\envs\\tf_base\\lib\\site-packages\\sklearn\\utils\\validation.py:63: DataConversionWarning: A column-vector y was passed when a 1d array was expected. Please change the shape of y to (n_samples, ), for example using ravel().\n",
      "  return f(*args, **kwargs)\n"
     ]
    }
   ],
   "source": [
    "svr = SVR(kernel='poly',degree=2)\n",
    "\n",
    "svr.fit(X,y)\n",
    "\n",
    "y_ = svr.predict(X_test)"
   ]
  },
  {
   "cell_type": "code",
   "execution_count": 21,
   "metadata": {},
   "outputs": [
    {
     "data": {
      "text/plain": [
       "[<matplotlib.lines.Line2D at 0x212011dd790>]"
      ]
     },
     "execution_count": 21,
     "metadata": {},
     "output_type": "execute_result"
    },
    {
     "data": {
      "image/png": "[encoded data removed]",
      "text/plain": [
       "<Figure size 432x288 with 1 Axes>"
      ]
     },
     "metadata": {
      "needs_background": "light"
     },
     "output_type": "display_data"
    }
   ],
   "source": [
    "plt.scatter(X,y)\n",
    "\n",
    "plt.plot(X_test,y_,color= 'green')"
   ]
  },
  {
   "cell_type": "code",
   "execution_count": null,
   "metadata": {},
   "outputs": [],
   "source": []
  },
  {
   "cell_type": "code",
   "execution_count": null,
   "metadata": {},
   "outputs": [],
   "source": []
  },
  {
   "cell_type": "code",
   "execution_count": 22,
   "metadata": {},
   "outputs": [],
   "source": [
    "#多給點參點"
   ]
  },
  {
   "cell_type": "code",
   "execution_count": 23,
   "metadata": {},
   "outputs": [],
   "source": [
    "X = np.linspace(-5,5,300).reshape(-1,1)\n",
    "\n",
    "y = (X - 3)**2 + 3*X - 15"
   ]
  },
  {
   "cell_type": "code",
   "execution_count": 24,
   "metadata": {},
   "outputs": [],
   "source": [
    "X_test = np.linspace(0,6,150).reshape(-1,1)"
   ]
  },
  {
   "cell_type": "code",
   "execution_count": 27,
   "metadata": {},
   "outputs": [
    {
     "name": "stdout",
     "output_type": "stream",
     "text": [
      "[LibSVM]"
     ]
    },
    {
     "name": "stderr",
     "output_type": "stream",
     "text": [
      "C:\\Users\\box62\\.conda\\envs\\tf_base\\lib\\site-packages\\sklearn\\utils\\validation.py:63: DataConversionWarning: A column-vector y was passed when a 1d array was expected. Please change the shape of y to (n_samples, ), for example using ravel().\n",
      "  return f(*args, **kwargs)\n"
     ]
    }
   ],
   "source": [
    "svr = SVR(kernel='poly',degree=2,verbose=True)\n",
    "\n",
    "svr.fit(X,y)\n",
    "\n",
    "y_ = svr.predict(X_test)"
   ]
  },
  {
   "cell_type": "code",
   "execution_count": 28,
   "metadata": {},
   "outputs": [
    {
     "data": {
      "text/plain": [
       "[<matplotlib.lines.Line2D at 0x21201296220>]"
      ]
     },
     "execution_count": 28,
     "metadata": {},
     "output_type": "execute_result"
    },
    {
     "data": {
      "image/png": "[encoded data removed]",
      "text/plain": [
       "<Figure size 432x288 with 1 Axes>"
      ]
     },
     "metadata": {
      "needs_background": "light"
     },
     "output_type": "display_data"
    }
   ],
   "source": [
    "plt.scatter(X,y)\n",
    "\n",
    "plt.plot(X_test,y_,color = 'green')"
   ]
  },
  {
   "cell_type": "code",
   "execution_count": null,
   "metadata": {},
   "outputs": [],
   "source": [
    "|"
   ]
  },
  {
   "cell_type": "code",
   "execution_count": 39,
   "metadata": {},
   "outputs": [],
   "source": [
    "X = np.linspace(-5,10,300).reshape(-1,1)\n",
    "\n",
    "y = X**3 + X**2 + X + 10\n"
   ]
  },
  {
   "cell_type": "code",
   "execution_count": 40,
   "metadata": {},
   "outputs": [
    {
     "name": "stderr",
     "output_type": "stream",
     "text": [
      "C:\\Users\\box62\\.conda\\envs\\tf_base\\lib\\site-packages\\sklearn\\utils\\validation.py:63: DataConversionWarning: A column-vector y was passed when a 1d array was expected. Please change the shape of y to (n_samples, ), for example using ravel().\n",
      "  return f(*args, **kwargs)\n"
     ]
    },
    {
     "data": {
      "text/plain": [
       "[<matplotlib.lines.Line2D at 0x21201557a30>]"
      ]
     },
     "execution_count": 40,
     "metadata": {},
     "output_type": "execute_result"
    },
    {
     "data": {
      "image/png": "[encoded data removed]",
      "text/plain": [
       "<Figure size 432x288 with 1 Axes>"
      ]
     },
     "metadata": {
      "needs_background": "light"
     },
     "output_type": "display_data"
    }
   ],
   "source": [
    "svr = SVR(kernel='poly',degree=3)\n",
    "\n",
    "svr.fit(X,y)\n",
    "\n",
    "X_test = np.linspace(-10,10,30).reshape(-1,1)\n",
    "\n",
    "y_ = svr.predict(X_test)\n",
    "\n",
    "plt.scatter(X,y)\n",
    "\n",
    "plt.plot(X_test,y_,color = 'green')"
   ]
  },
  {
   "cell_type": "code",
   "execution_count": null,
   "metadata": {},
   "outputs": [],
   "source": []
  },
  {
   "cell_type": "code",
   "execution_count": null,
   "metadata": {},
   "outputs": [],
   "source": []
  },
  {
   "cell_type": "code",
   "execution_count": 41,
   "metadata": {},
   "outputs": [],
   "source": [
    "from sklearn.preprocessing import PolynomialFeatures"
   ]
  },
  {
   "cell_type": "code",
   "execution_count": 42,
   "metadata": {},
   "outputs": [],
   "source": [
    "poly = PolynomialFeatures(degree=3)"
   ]
  },
  {
   "cell_type": "code",
   "execution_count": 43,
   "metadata": {},
   "outputs": [
    {
     "data": {
      "text/plain": [
       "array([[   1.        ,   -5.        ,   25.        , -125.        ],\n",
       "       [   1.        ,   -4.94983278,   24.50084451, -121.27508319],\n",
       "       [   1.        ,   -4.89966555,   24.00672252, -117.62491134],\n",
       "       ...,\n",
       "       [   1.        ,    9.89966555,   98.00337804,  970.20066553],\n",
       "       [   1.        ,    9.94983278,   98.99917227,  985.02520903],\n",
       "       [   1.        ,   10.        ,  100.        , 1000.        ]])"
      ]
     },
     "execution_count": 43,
     "metadata": {},
     "output_type": "execute_result"
    }
   ],
   "source": [
    "# 数据清洗\n",
    "X2 = poly.fit_transform(X)\n",
    "X2"
   ]
  },
  {
   "cell_type": "code",
   "execution_count": 44,
   "metadata": {},
   "outputs": [
    {
     "data": {
      "text/plain": [
       "(300, 4)"
      ]
     },
     "execution_count": 44,
     "metadata": {},
     "output_type": "execute_result"
    }
   ],
   "source": [
    "X2.shape"
   ]
  },
  {
   "cell_type": "code",
   "execution_count": null,
   "metadata": {},
   "outputs": [],
   "source": []
  },
  {
   "cell_type": "code",
   "execution_count": 45,
   "metadata": {},
   "outputs": [
    {
     "data": {
      "text/plain": [
       "LinearRegression()"
      ]
     },
     "execution_count": 45,
     "metadata": {},
     "output_type": "execute_result"
    }
   ],
   "source": [
    "lr = LinearRegression()\n",
    "\n",
    "\n",
    "lr.fit(X2,y)"
   ]
  },
  {
   "cell_type": "code",
   "execution_count": 47,
   "metadata": {
    "scrolled": true
   },
   "outputs": [
    {
     "data": {
      "text/plain": [
       "array([[ 1.00000000e+00, -1.00000000e+01,  1.00000000e+02,\n",
       "        -1.00000000e+03],\n",
       "       [ 1.00000000e+00, -9.31034483e+00,  8.66825208e+01,\n",
       "        -8.07044159e+02],\n",
       "       [ 1.00000000e+00, -8.62068966e+00,  7.43162901e+01,\n",
       "        -6.40657674e+02],\n",
       "       [ 1.00000000e+00, -7.93103448e+00,  6.29013080e+01,\n",
       "        -4.98872442e+02],\n",
       "       [ 1.00000000e+00, -7.24137931e+00,  5.24375743e+01,\n",
       "        -3.79720366e+02],\n",
       "       [ 1.00000000e+00, -6.55172414e+00,  4.29250892e+01,\n",
       "        -2.81233343e+02],\n",
       "       [ 1.00000000e+00, -5.86206897e+00,  3.43638526e+01,\n",
       "        -2.01443274e+02],\n",
       "       [ 1.00000000e+00, -5.17241379e+00,  2.67538644e+01,\n",
       "        -1.38382057e+02],\n",
       "       [ 1.00000000e+00, -4.48275862e+00,  2.00951249e+01,\n",
       "        -9.00815942e+01],\n",
       "       [ 1.00000000e+00, -3.79310345e+00,  1.43876338e+01,\n",
       "        -5.45737833e+01],\n",
       "       [ 1.00000000e+00, -3.10344828e+00,  9.63139120e+00,\n",
       "        -2.98905244e+01],\n",
       "       [ 1.00000000e+00, -2.41379310e+00,  5.82639715e+00,\n",
       "        -1.40637172e+01],\n",
       "       [ 1.00000000e+00, -1.72413793e+00,  2.97265161e+00,\n",
       "        -5.12526139e+00],\n",
       "       [ 1.00000000e+00, -1.03448276e+00,  1.07015458e+00,\n",
       "        -1.10705646e+00],\n",
       "       [ 1.00000000e+00, -3.44827586e-01,  1.18906064e-01,\n",
       "        -4.10020911e-02],\n",
       "       [ 1.00000000e+00,  3.44827586e-01,  1.18906064e-01,\n",
       "         4.10020911e-02],\n",
       "       [ 1.00000000e+00,  1.03448276e+00,  1.07015458e+00,\n",
       "         1.10705646e+00],\n",
       "       [ 1.00000000e+00,  1.72413793e+00,  2.97265161e+00,\n",
       "         5.12526139e+00],\n",
       "       [ 1.00000000e+00,  2.41379310e+00,  5.82639715e+00,\n",
       "         1.40637172e+01],\n",
       "       [ 1.00000000e+00,  3.10344828e+00,  9.63139120e+00,\n",
       "         2.98905244e+01],\n",
       "       [ 1.00000000e+00,  3.79310345e+00,  1.43876338e+01,\n",
       "         5.45737833e+01],\n",
       "       [ 1.00000000e+00,  4.48275862e+00,  2.00951249e+01,\n",
       "         9.00815942e+01],\n",
       "       [ 1.00000000e+00,  5.17241379e+00,  2.67538644e+01,\n",
       "         1.38382057e+02],\n",
       "       [ 1.00000000e+00,  5.86206897e+00,  3.43638526e+01,\n",
       "         2.01443274e+02],\n",
       "       [ 1.00000000e+00,  6.55172414e+00,  4.29250892e+01,\n",
       "         2.81233343e+02],\n",
       "       [ 1.00000000e+00,  7.24137931e+00,  5.24375743e+01,\n",
       "         3.79720366e+02],\n",
       "       [ 1.00000000e+00,  7.93103448e+00,  6.29013080e+01,\n",
       "         4.98872442e+02],\n",
       "       [ 1.00000000e+00,  8.62068966e+00,  7.43162901e+01,\n",
       "         6.40657674e+02],\n",
       "       [ 1.00000000e+00,  9.31034483e+00,  8.66825208e+01,\n",
       "         8.07044159e+02],\n",
       "       [ 1.00000000e+00,  1.00000000e+01,  1.00000000e+02,\n",
       "         1.00000000e+03]])"
      ]
     },
     "execution_count": 47,
     "metadata": {},
     "output_type": "execute_result"
    }
   ],
   "source": [
    "X_test2 = poly.fit_transform(X_test)\n",
    "X_test2"
   ]
  },
  {
   "cell_type": "code",
   "execution_count": null,
   "metadata": {},
   "outputs": [],
   "source": []
  },
  {
   "cell_type": "code",
   "execution_count": 48,
   "metadata": {},
   "outputs": [],
   "source": [
    "y_ = lr.predict(X_test2)"
   ]
  },
  {
   "cell_type": "code",
   "execution_count": null,
   "metadata": {},
   "outputs": [],
   "source": []
  },
  {
   "cell_type": "code",
   "execution_count": 49,
   "metadata": {},
   "outputs": [
    {
     "data": {
      "text/plain": [
       "[<matplotlib.lines.Line2D at 0x212035dca30>]"
      ]
     },
     "execution_count": 49,
     "metadata": {},
     "output_type": "execute_result"
    },
    {
     "data": {
      "image/png": "[encoded data removed]",
      "text/plain": [
       "<Figure size 432x288 with 1 Axes>"
      ]
     },
     "metadata": {
      "needs_background": "light"
     },
     "output_type": "display_data"
    }
   ],
   "source": [
    "plt.scatter(X,y)\n",
    "\n",
    "plt.plot(X_test,y_,color = 'green')"
   ]
  },
  {
   "cell_type": "code",
   "execution_count": null,
   "metadata": {},
   "outputs": [],
   "source": []
  },
  {
   "cell_type": "markdown",
   "metadata": {},
   "source": [
    "https://www.youtube.com/watch?v=Es8Ybz501bo&list=PLwDQt7s1o9J65aQ6HYN4LaqRkX8ncKG1D&index=105"
   ]
  }
 ],
 "metadata": {
  "kernelspec": {
   "display_name": "Python 3",
   "language": "python",
   "name": "python3"
  },
  "language_info": {
   "codemirror_mode": {
    "name": "ipython",
    "version": 3
   },
   "file_extension": ".py",
   "mimetype": "text/x-python",
   "name": "python",
   "nbconvert_exporter": "python",
   "pygments_lexer": "ipython3",
   "version": "3.8.5"
  }
 },
 "nbformat": 4,
 "nbformat_minor": 4
}
